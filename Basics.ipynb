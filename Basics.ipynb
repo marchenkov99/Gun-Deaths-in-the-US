{
 "cells": [
  {
   "cell_type": "code",
   "execution_count": 19,
   "metadata": {
    "collapsed": false
   },
   "outputs": [
    {
     "name": "stdout",
     "output_type": "stream",
     "text": [
      "{'Asian/Pacific Islander': 8.374309664161762, 'Hispanic': 20.220491210910907, 'Black': 57.8773477735196, 'White': 33.56849303419181, 'Native American/Native Alaskan': 24.521955573811088}\n"
     ]
    }
   ],
   "source": [
    "import csv\n",
    "import datetime\n",
    "\n",
    "def read_csv(name):\n",
    "    file_csv = open(name, \"r\")\n",
    "    file_list = list(csv.reader(file_csv))\n",
    "    return file_list[0], file_list[1:]\n",
    "\n",
    "headers, data = read_csv(\"guns.csv\")\n",
    "census = read_csv(\"census.csv\")[1][0]\n",
    "\n",
    "years = [int(row[1]) for row in data]\n",
    "year_counts = {}\n",
    "\n",
    "for year in years:\n",
    "    if year in year_counts:\n",
    "        year_counts[year] += 1\n",
    "    else:\n",
    "        year_counts[year] = 1\n",
    "        \n",
    "dates = []\n",
    "\n",
    "for row in data:\n",
    "    year = int(row[1])\n",
    "    month = int(row[2])\n",
    "    day = 1\n",
    "    dates.append(datetime.datetime(year, month, day))\n",
    "    \n",
    "date_counts = {}\n",
    "\n",
    "for date in dates:\n",
    "    if date in date_counts:\n",
    "        date_counts[date] += 1\n",
    "    else:\n",
    "        date_counts[date] = 1\n",
    "\n",
    "\n",
    "races = [row[7] for row in data]\n",
    "\n",
    "race_counts = {}\n",
    "mapping = {}\n",
    "\n",
    "for race in races:\n",
    "    if race in race_counts:\n",
    "        race_counts[race] += 1\n",
    "    else:\n",
    "        race_counts[race] = 1\n",
    "\n",
    "mapping[\"Asian/Pacific Islander\"] = (int(census[-3]) + int(census[-2]))\n",
    "mapping[\"Black\"] = int(census[-5])\n",
    "mapping[\"Hispanic\"] = int(census[-6])\n",
    "mapping[\"Native American/Native Alaskan\"] = int(census[-4])\n",
    "mapping[\"White\"] = int(census[-7])\n",
    "\n",
    "race_per_hundredk = {}\n",
    "for race in race_counts:\n",
    "    race_per_hundredk[race] = race_counts[race]/mapping[race]*100000\n",
    "    \n",
    "sexes = [row[5] for row in data]\n",
    "\n",
    "sex_counts = {}\n",
    "for sex in sexes:\n",
    "    if sex in sex_counts:\n",
    "        sex_counts[sex] += 1\n",
    "    else:\n",
    "        sex_counts[sex] = 1\n",
    "        \n",
    "print(race_per_hundredk)"
   ]
  },
  {
   "cell_type": "code",
   "execution_count": 20,
   "metadata": {
    "collapsed": false
   },
   "outputs": [
    {
     "name": "stdout",
     "output_type": "stream",
     "text": [
      "{'Asian/Pacific Islander': 3.530346230970155, 'Hispanic': 12.627161104219914, 'Black': 48.471284987180944, 'White': 4.6356417981453335, 'Native American/Native Alaskan': 8.717729026240365}\n"
     ]
    }
   ],
   "source": [
    "intents = [row[3] for row in data]\n",
    "races = [row[7] for row in data]\n",
    "\n",
    "homicide_race_counts = {}\n",
    "\n",
    "for i, race in enumerate(races):\n",
    "    if intents[i] == \"Homicide\":\n",
    "        if race in homicide_race_counts:\n",
    "            homicide_race_counts[race] += 1\n",
    "        else:\n",
    "            homicide_race_counts[race] = 1\n",
    "\n",
    "for race in homicide_race_counts:\n",
    "    homicide_race_counts[race] = homicide_race_counts[race]/mapping[race]*100000\n",
    "    \n",
    "print(homicide_race_counts)"
   ]
  },
  {
   "cell_type": "markdown",
   "metadata": {},
   "source": [
    "Gun deaths in the US from $2012$ to $2014$ **didn't depend on the year and month** of crime, but **depended on the race and sex** of victim. Most of the victims are White race, male and much less, but a significant part is Black race."
   ]
  },
  {
   "cell_type": "markdown",
   "metadata": {},
   "source": [
    "If consider an intent of crime(Homicide) and the total population of each racial group in the US we can see completely different results.\n",
    "\n",
    "In the next steps I want to explore gun deaths depending on age and education."
   ]
  }
 ],
 "metadata": {
  "kernelspec": {
   "display_name": "Python 3",
   "language": "python",
   "name": "python3"
  },
  "language_info": {
   "codemirror_mode": {
    "name": "ipython",
    "version": 3
   },
   "file_extension": ".py",
   "mimetype": "text/x-python",
   "name": "python",
   "nbconvert_exporter": "python",
   "pygments_lexer": "ipython3",
   "version": "3.4.3"
  }
 },
 "nbformat": 4,
 "nbformat_minor": 0
}
